{
 "cells": [
  {
   "cell_type": "code",
   "execution_count": 1,
   "metadata": {},
   "outputs": [
    {
     "name": "stdout",
     "output_type": "stream",
     "text": [
      "Modules to reload:\n",
      "all-except-skipped\n",
      "\n",
      "Modules to skip:\n",
      "\n"
     ]
    }
   ],
   "source": [
    "%load_ext autoreload\n",
    "%autoreload 2\n",
    "%aimport\n",
    "%matplotlib inline"
   ]
  },
  {
   "cell_type": "code",
   "execution_count": 2,
   "metadata": {},
   "outputs": [],
   "source": [
    "import os\n",
    "import sys\n",
    "nb_dir = os.path.split(os.getcwd())[0]\n",
    "if nb_dir not in sys.path:\n",
    "    sys.path.append(nb_dir)"
   ]
  },
  {
   "cell_type": "code",
   "execution_count": 3,
   "metadata": {},
   "outputs": [
    {
     "name": "stderr",
     "output_type": "stream",
     "text": [
      "/Users/dimakagan/Projects/wgand/wgand/base_detector.py:10: TqdmExperimentalWarning: Using `tqdm.autonotebook.tqdm` in notebook mode. Use `tqdm.tqdm` instead to force console mode (e.g. in jupyter console)\n",
      "  from tqdm.autonotebook import tqdm\n"
     ]
    }
   ],
   "source": [
    "from wgand import EnsembleAnomalyDetector\n",
    "from wgand import load_tissue_graph, get_gdf\n",
    "from wgand.utils import precision_at_k"
   ]
  },
  {
   "cell_type": "code",
   "execution_count": null,
   "metadata": {},
   "outputs": [],
   "source": [
    "import networkx as nx\n",
    "import pickle\n",
    "from pathlib import Path\n",
    "import pandas as pd\n",
    "from tqdm.auto import tqdm\n",
    "from sklearn.metrics import roc_auc_score\n",
    "import numpy as np\n",
    "from sklearn.ensemble import RandomForestRegressor\n",
    "from tqdm import tqdm_notebook as tqdm\n",
    "from karateclub.node_embedding.neighbourhood import Node2Vec\n",
    "import xgboost as xgb\n",
    "import lightgbm as lgb\n",
    "import warnings\n",
    "warnings.filterwarnings('ignore')"
   ]
  },
  {
   "cell_type": "code",
   "execution_count": 5,
   "metadata": {},
   "outputs": [],
   "source": [
    "tissue_path = Path(\"../data/networks/\")\n",
    "models_path = Path(\"../models\")\n",
    "out_path = Path(\"out\")"
   ]
  },
  {
   "cell_type": "code",
   "execution_count": 6,
   "metadata": {},
   "outputs": [],
   "source": [
    "disease_info = pd.read_csv(\"../data/Disease_Info.csv\")\n",
    "disease_info[\"Disease_name\"] = disease_info[\"Disease_name\"].str.strip(\"{\")\n",
    "disease_info[\"Disease_name\"] = disease_info[\"Disease_name\"].str.strip(\"}\")\n",
    "disease_info[\"Disease_name\"] = disease_info[\"Disease_name\"].str.strip(\"?\")\n",
    "disease_info[\"Tissue\"] = disease_info[\"Tissue\"].str.replace(\"-\", \" \")"
   ]
  },
  {
   "cell_type": "code",
   "execution_count": 7,
   "metadata": {},
   "outputs": [],
   "source": [
    "tissue_mapping = pd.read_csv(\"../data/tissue_mapping_new.csv\")\n"
   ]
  },
  {
   "cell_type": "code",
   "execution_count": 8,
   "metadata": {},
   "outputs": [],
   "source": [
    "tissue_mapping = tissue_mapping.dropna()"
   ]
  },
  {
   "cell_type": "code",
   "execution_count": 9,
   "metadata": {},
   "outputs": [],
   "source": [
    "tissue_mapping = tissue_mapping.merge(pd.DataFrame(disease_info.drop_duplicates(subset=[\"Tissue\",\"Gene_ID\"]).groupby(\"Tissue\").size()), left_on=\"tissue_name_disease_file\", right_on=\"Tissue\", how=\"left\")\n",
    "tissue_mapping = tissue_mapping.rename(columns={0:\"disease_nodes_num\"})"
   ]
  },
  {
   "cell_type": "code",
   "execution_count": 10,
   "metadata": {},
   "outputs": [],
   "source": [
    "tissue_mapping = tissue_mapping[tissue_mapping[\"disease_nodes_num\"]>20]"
   ]
  },
  {
   "cell_type": "code",
   "execution_count": 11,
   "metadata": {},
   "outputs": [],
   "source": [
    "tissue_mapping = tissue_mapping[~tissue_mapping.tissue_name_network_file.isin([\"Breast Mammary Tissue\", \"Minor Salivary Gland\"])]"
   ]
  },
  {
   "cell_type": "markdown",
   "metadata": {},
   "source": [
    "## Generate Embedding"
   ]
  },
  {
   "cell_type": "code",
   "execution_count": 15,
   "metadata": {
    "collapsed": true,
    "jupyter": {
     "outputs_hidden": true
    },
    "tags": []
   },
   "outputs": [
    {
     "name": "stderr",
     "output_type": "stream",
     "text": [
      "/var/folders/28/wk9vjjr90dngycj11yyzw4nw0000gn/T/ipykernel_23947/1320421976.py:2: TqdmDeprecationWarning: This function will be removed in tqdm==5.0.0\n",
      "Please use `tqdm.notebook.tqdm` instead of `tqdm.tqdm_notebook`\n",
      "  for _, row in tqdm(tissue_mapping.iterrows()):\n"
     ]
    },
    {
     "data": {
      "application/vnd.jupyter.widget-view+json": {
       "model_id": "e036bc9f4c4b41fcaf16395cf73ef160",
       "version_major": 2,
       "version_minor": 0
      },
      "text/plain": [
       "0it [00:00, ?it/s]"
      ]
     },
     "metadata": {},
     "output_type": "display_data"
    }
   ],
   "source": [
    "# from karateclub.node_embedding.neighbourhood import Node2Vec, RandNE\n",
    "# for _, row in tqdm(tissue_mapping.iterrows()):\n",
    "#     tissue_name = row[\"tissue_name_network_file\"]\n",
    "#     tissue_disease_file_name = row[\"tissue_name_disease_file\"]\n",
    "#     if not (models_path/f\"weighted_randne_{tissue_name}.feather\").exists():\n",
    "#         g = load_tissue_graph(tissue_path, tissue_name, tissue_disease_file_name, disease_info)\n",
    "#         g_num = nx.convert_node_labels_to_integers(g, first_label=0, ordering='sorted', label_attribute=\"gen\")\n",
    "\n",
    "#         model = RandNE()\n",
    "\n",
    "#         model.fit(g_num)\n",
    "        \n",
    "#         edge_df = nx.convert_matrix.to_pandas_edgelist(g_num)\n",
    "#         edge_df[\"source\"] = edge_df[\"source\"].astype(int)\n",
    "#         edge_df[\"target\"] = edge_df[\"target\"].astype(int)\n",
    "#         edge_df = get_gdf(g)\n",
    "#         edge_df[\"features\"] = edge_df.apply(lambda x: np.concatenate([model.get_embedding()[int(x[\"source\"])],model.get_embedding()[int(x[\"target\"])]]), axis=1)\n",
    "#         edge_df.to_feather(models_path/f\"weighted_randne_{tissue_name}.feather\")"
   ]
  },
  {
   "cell_type": "code",
   "execution_count": 13,
   "metadata": {},
   "outputs": [
    {
     "name": "stdout",
     "output_type": "stream",
     "text": [
      "Loading embeddings\n"
     ]
    }
   ],
   "source": [
    "emb_model = \"RandNE\"\n",
    "if (models_path/f\"{emb_model}.pkl\").exists():\n",
    "    print(\"Loading embeddings\")\n",
    "    edge_df = pd.read_pickle(models_path/f\"{emb_model}.pkl\")\n",
    "else:\n",
    "    edge_df = nx.convert_matrix.to_pandas_edgelist(g_num)\n",
    "    edge_df[\"source\"] = edge_df[\"source\"].astype(int)\n",
    "    edge_df[\"target\"] = edge_df[\"target\"].astype(int)\n",
    "    edge_df = get_gdf(g)\n",
    "    edge_df[\"features\"] = edge_df.apply(lambda x: np.concatenate([model.get_embedding()[int(x[\"source\"])],model.get_embedding()[int(x[\"target\"])]]), axis=1)\n",
    "    edge_df.to_pickle(models_path/f\"{emb_model}.pkl\")"
   ]
  },
  {
   "attachments": {},
   "cell_type": "markdown",
   "metadata": {},
   "source": [
    "# Ours"
   ]
  },
  {
   "attachments": {},
   "cell_type": "markdown",
   "metadata": {},
   "source": [
    "## Node Embeddings"
   ]
  },
  {
   "cell_type": "code",
   "execution_count": 16,
   "metadata": {},
   "outputs": [],
   "source": [
    "from karateclub.node_embedding.neighbourhood import RandNE, GLEE, NodeSketch, DeepWalk\n",
    "node_emb_models = [RandNE, GLEE, NodeSketch, DeepWalk, Node2Vec]"
   ]
  },
  {
   "cell_type": "code",
   "execution_count": null,
   "metadata": {},
   "outputs": [],
   "source": [
    "from pyod.models.iforest import IForest\n",
    "import pyod.models.combination as comb \n",
    "res = []\n",
    "df_concat = []\n",
    "\n",
    "with tqdm(total=(len(node_emb_models)*len(tissue_mapping))) as pbar:\n",
    "\n",
    "    for model_cls in node_emb_models:\n",
    "        edge_df = pd.read_pickle(models_path/f\"{model_cls.__name__}.pkl\")\n",
    "\n",
    "        for _, row in tissue_mapping.iterrows():\n",
    "            tissue_name = row[\"tissue_name_network_file\"]\n",
    "            tissue_name_disease_file = row[\"tissue_name_disease_file\"]\n",
    "            temp = {\"tissue_name\":tissue_name, \"embedding\":model_cls.__name__}\n",
    "            print(f\"---------{tissue_name}-{tissue_name_disease_file}--------\")\n",
    "            try:\n",
    "                g = load_tissue_graph(tissue_path, tissue_name, tissue_name_disease_file, disease_info)\n",
    "\n",
    "                nodes = list(g.nodes)\n",
    "                y = [1 if \"disease_name\" in g.nodes[n] else 0 for n in nodes ]\n",
    "            except KeyError:\n",
    "                print(f\"{tissue_name} not found in disease info\")\n",
    "                continue\n",
    "            nad = EnsembleAnomalyDetector(g, RandomForestRegressor(n_jobs=-1,n_estimators=500,random_state=2), IForest(n_jobs=-1,random_state=2))\n",
    "            nad.set_gdf_features(edge_df[\"features\"])\n",
    "            nad.fit(nodes)\n",
    "        \n",
    "            probs = nad.predict_node_proba(nodes)\n",
    "\n",
    "            temp[\"auc\"] = roc_auc_score(y, probs)\n",
    "            temp[\"p@1\"] = precision_at_k(y, probs,1)\n",
    "            temp[\"p@3\"] = precision_at_k(y, probs,3)\n",
    "            temp[\"p@10\"] = precision_at_k(y, probs,10)\n",
    "            temp[\"p@20\"] = precision_at_k(y, probs,20)\n",
    "            temp[\"p@anom\"] = precision_at_k(y, probs,np.sum(y))\n",
    "            temp[\"anom\"] = np.sum(y)\n",
    "            res.append(temp.copy())  \n",
    "            pbar.update(1)"
   ]
  },
  {
   "cell_type": "code",
   "execution_count": 19,
   "metadata": {},
   "outputs": [],
   "source": [
    "pd.DataFrame(res).to_csv(out_path/\"embedding-results.csv\")"
   ]
  },
  {
   "cell_type": "code",
   "execution_count": 18,
   "metadata": {},
   "outputs": [
    {
     "data": {
      "text/html": [
       "<div>\n",
       "<style scoped>\n",
       "    .dataframe tbody tr th:only-of-type {\n",
       "        vertical-align: middle;\n",
       "    }\n",
       "\n",
       "    .dataframe tbody tr th {\n",
       "        vertical-align: top;\n",
       "    }\n",
       "\n",
       "    .dataframe thead th {\n",
       "        text-align: right;\n",
       "    }\n",
       "</style>\n",
       "<table border=\"1\" class=\"dataframe\">\n",
       "  <thead>\n",
       "    <tr style=\"text-align: right;\">\n",
       "      <th></th>\n",
       "      <th>auc</th>\n",
       "      <th>p@1</th>\n",
       "      <th>p@3</th>\n",
       "      <th>p@10</th>\n",
       "      <th>p@20</th>\n",
       "      <th>p@anom</th>\n",
       "      <th>anom</th>\n",
       "    </tr>\n",
       "    <tr>\n",
       "      <th>embedding</th>\n",
       "      <th></th>\n",
       "      <th></th>\n",
       "      <th></th>\n",
       "      <th></th>\n",
       "      <th></th>\n",
       "      <th></th>\n",
       "      <th></th>\n",
       "    </tr>\n",
       "  </thead>\n",
       "  <tbody>\n",
       "    <tr>\n",
       "      <th>DeepWalk</th>\n",
       "      <td>0.662935</td>\n",
       "      <td>0.411765</td>\n",
       "      <td>0.235294</td>\n",
       "      <td>0.194118</td>\n",
       "      <td>0.158824</td>\n",
       "      <td>0.094793</td>\n",
       "      <td>142.941176</td>\n",
       "    </tr>\n",
       "    <tr>\n",
       "      <th>GLEE</th>\n",
       "      <td>0.669870</td>\n",
       "      <td>0.352941</td>\n",
       "      <td>0.254902</td>\n",
       "      <td>0.176471</td>\n",
       "      <td>0.141176</td>\n",
       "      <td>0.089198</td>\n",
       "      <td>142.941176</td>\n",
       "    </tr>\n",
       "    <tr>\n",
       "      <th>Node2Vec</th>\n",
       "      <td>0.665810</td>\n",
       "      <td>0.411765</td>\n",
       "      <td>0.274510</td>\n",
       "      <td>0.241176</td>\n",
       "      <td>0.182353</td>\n",
       "      <td>0.097830</td>\n",
       "      <td>142.941176</td>\n",
       "    </tr>\n",
       "    <tr>\n",
       "      <th>NodeSketch</th>\n",
       "      <td>0.669975</td>\n",
       "      <td>0.411765</td>\n",
       "      <td>0.313725</td>\n",
       "      <td>0.247059</td>\n",
       "      <td>0.194118</td>\n",
       "      <td>0.096789</td>\n",
       "      <td>142.941176</td>\n",
       "    </tr>\n",
       "    <tr>\n",
       "      <th>RandNE</th>\n",
       "      <td>0.670086</td>\n",
       "      <td>0.529412</td>\n",
       "      <td>0.372549</td>\n",
       "      <td>0.252941</td>\n",
       "      <td>0.214706</td>\n",
       "      <td>0.099098</td>\n",
       "      <td>142.941176</td>\n",
       "    </tr>\n",
       "  </tbody>\n",
       "</table>\n",
       "</div>"
      ],
      "text/plain": [
       "                 auc       p@1       p@3      p@10      p@20    p@anom  \\\n",
       "embedding                                                                \n",
       "DeepWalk    0.662935  0.411765  0.235294  0.194118  0.158824  0.094793   \n",
       "GLEE        0.669870  0.352941  0.254902  0.176471  0.141176  0.089198   \n",
       "Node2Vec    0.665810  0.411765  0.274510  0.241176  0.182353  0.097830   \n",
       "NodeSketch  0.669975  0.411765  0.313725  0.247059  0.194118  0.096789   \n",
       "RandNE      0.670086  0.529412  0.372549  0.252941  0.214706  0.099098   \n",
       "\n",
       "                  anom  \n",
       "embedding               \n",
       "DeepWalk    142.941176  \n",
       "GLEE        142.941176  \n",
       "Node2Vec    142.941176  \n",
       "NodeSketch  142.941176  \n",
       "RandNE      142.941176  "
      ]
     },
     "execution_count": 18,
     "metadata": {},
     "output_type": "execute_result"
    }
   ],
   "source": [
    "pd.DataFrame(res).groupby([\"embedding\"]).mean()"
   ]
  },
  {
   "cell_type": "markdown",
   "metadata": {},
   "source": [
    "# Weight Estimator"
   ]
  },
  {
   "cell_type": "code",
   "execution_count": 16,
   "metadata": {},
   "outputs": [
    {
     "data": {
      "application/vnd.jupyter.widget-view+json": {
       "model_id": "f6116751b32a48b8aa2ff020e76356d0",
       "version_major": 2,
       "version_minor": 0
      },
      "text/plain": [
       "  0%|          | 0/51 [00:00<?, ?it/s]"
      ]
     },
     "metadata": {},
     "output_type": "display_data"
    },
    {
     "name": "stdout",
     "output_type": "stream",
     "text": [
      "---------Artery Aorta-Artery Aorta--------\n",
      "---------Brain Cerebellum-Brain Cerebellum--------\n",
      "---------Brain Cortex-Brain Cortex--------\n",
      "---------Brain Spinal cord cervical c 1-Spinal cord--------\n",
      "---------Heart Atrial Appendage-Heart Atrium--------\n",
      "---------Heart Left Ventricle-Heart Ventricle--------\n",
      "---------Liver-Liver--------\n",
      "---------Lung-Respiratory system Lung--------\n",
      "---------Muscle Skeletal-Skeletal muscle--------\n",
      "---------Nerve Tibial-Peripheral nerve--------\n",
      "---------Ovary-Ovary--------\n",
      "---------Pituitary-Pituitary--------\n",
      "---------Skin Not Sun Exposed Suprapubic-Skin--------\n",
      "---------Skin Sun Exposed Lower leg-Skin--------\n",
      "---------Testis-Testis--------\n",
      "---------Whole Blood-Blood and bone marrow--------\n",
      "---------Whole Brain-Brain--------\n",
      "---------Artery Aorta-Artery Aorta--------\n",
      "---------Brain Cerebellum-Brain Cerebellum--------\n",
      "---------Brain Cortex-Brain Cortex--------\n",
      "---------Brain Spinal cord cervical c 1-Spinal cord--------\n",
      "---------Heart Atrial Appendage-Heart Atrium--------\n",
      "---------Heart Left Ventricle-Heart Ventricle--------\n",
      "---------Liver-Liver--------\n",
      "---------Lung-Respiratory system Lung--------\n",
      "---------Muscle Skeletal-Skeletal muscle--------\n",
      "---------Nerve Tibial-Peripheral nerve--------\n",
      "---------Ovary-Ovary--------\n",
      "---------Pituitary-Pituitary--------\n",
      "---------Skin Not Sun Exposed Suprapubic-Skin--------\n",
      "---------Skin Sun Exposed Lower leg-Skin--------\n",
      "---------Testis-Testis--------\n",
      "---------Whole Blood-Blood and bone marrow--------\n",
      "---------Whole Brain-Brain--------\n",
      "---------Artery Aorta-Artery Aorta--------\n",
      "---------Brain Cerebellum-Brain Cerebellum--------\n",
      "---------Brain Cortex-Brain Cortex--------\n",
      "---------Brain Spinal cord cervical c 1-Spinal cord--------\n",
      "---------Heart Atrial Appendage-Heart Atrium--------\n",
      "---------Heart Left Ventricle-Heart Ventricle--------\n",
      "---------Liver-Liver--------\n",
      "---------Lung-Respiratory system Lung--------\n",
      "---------Muscle Skeletal-Skeletal muscle--------\n",
      "---------Nerve Tibial-Peripheral nerve--------\n",
      "---------Ovary-Ovary--------\n",
      "---------Pituitary-Pituitary--------\n",
      "---------Skin Not Sun Exposed Suprapubic-Skin--------\n",
      "---------Skin Sun Exposed Lower leg-Skin--------\n",
      "---------Testis-Testis--------\n",
      "---------Whole Blood-Blood and bone marrow--------\n",
      "---------Whole Brain-Brain--------\n"
     ]
    }
   ],
   "source": [
    "from pyod.models.iforest import IForest\n",
    "import pyod.models.combination as comb \n",
    "res = []\n",
    "df_concat = []\n",
    "link_clfs = [\n",
    "            (xgb.XGBRegressor, {\"n_jobs\":-1,\"n_estimators\": 100,\"max_depth\":9, \"subsample\":0.8,\"eta\":0.5 ,\"seed\":2, \"eval_metric\":\"rmse\",\"colsample_bytree\":1}),\n",
    "            (lgb.LGBMRegressor, {\"n_estimators\": 100,\"random_state\":2, \"learning_rate\":0.1, \"num_leaves\":512, \"n_jobs\":-1}),\n",
    "            (RandomForestRegressor, {\"n_jobs\":-1,\"n_estimators\": 500,\"random_state\":2})\n",
    "            ] \n",
    "\n",
    "with tqdm(total=(len(link_clfs)*len(tissue_mapping))) as pbar:\n",
    "\n",
    "    for clf, link_clf_params in link_clfs:\n",
    "        for _, row in tissue_mapping.iterrows():\n",
    "            tissue_name = row[\"tissue_name_network_file\"]\n",
    "            tissue_name_disease_file = row[\"tissue_name_disease_file\"]\n",
    "            temp = {\"tissue_name\":tissue_name, \"Estimator\":clf.__name__}\n",
    "            link_clf = clf(**link_clf_params)\n",
    "            print(f\"---------{tissue_name}-{tissue_name_disease_file}--------\")\n",
    "            try:\n",
    "                g = load_tissue_graph(tissue_path, tissue_name, tissue_name_disease_file, disease_info)\n",
    "\n",
    "                nodes = list(g.nodes)\n",
    "                y = [1 if \"disease_name\" in g.nodes[n] else 0 for n in nodes ]\n",
    "            except KeyError:\n",
    "                print(f\"{tissue_name} not found in disease info\")\n",
    "                continue\n",
    "            nad = EnsembleAnomalyDetector(g, link_clf, IForest(n_jobs=-1,random_state=2))\n",
    "            nad.set_gdf_features(edge_df[\"features\"])\n",
    "            nad.fit(nodes)\n",
    "        \n",
    "            probs = nad.predict_node_proba(nodes)\n",
    "\n",
    "            temp[\"auc\"] = roc_auc_score(y, probs)\n",
    "            temp[\"p@1\"] = precision_at_k(y, probs,1)\n",
    "            temp[\"p@3\"] = precision_at_k(y, probs,3)\n",
    "            temp[\"p@10\"] = precision_at_k(y, probs,10)\n",
    "            temp[\"p@20\"] = precision_at_k(y, probs,20)\n",
    "            temp[\"p@anom\"] = precision_at_k(y, probs,np.sum(y))\n",
    "            temp[\"anom\"] = np.sum(y)\n",
    "            res.append(temp.copy())  \n",
    "            pbar.update(1)"
   ]
  },
  {
   "cell_type": "code",
   "execution_count": 17,
   "metadata": {},
   "outputs": [
    {
     "data": {
      "text/html": [
       "<div>\n",
       "<style scoped>\n",
       "    .dataframe tbody tr th:only-of-type {\n",
       "        vertical-align: middle;\n",
       "    }\n",
       "\n",
       "    .dataframe tbody tr th {\n",
       "        vertical-align: top;\n",
       "    }\n",
       "\n",
       "    .dataframe thead th {\n",
       "        text-align: right;\n",
       "    }\n",
       "</style>\n",
       "<table border=\"1\" class=\"dataframe\">\n",
       "  <thead>\n",
       "    <tr style=\"text-align: right;\">\n",
       "      <th></th>\n",
       "      <th>auc</th>\n",
       "      <th>p@1</th>\n",
       "      <th>p@3</th>\n",
       "      <th>p@10</th>\n",
       "      <th>p@20</th>\n",
       "      <th>p@anom</th>\n",
       "      <th>anom</th>\n",
       "    </tr>\n",
       "    <tr>\n",
       "      <th>Estimator</th>\n",
       "      <th></th>\n",
       "      <th></th>\n",
       "      <th></th>\n",
       "      <th></th>\n",
       "      <th></th>\n",
       "      <th></th>\n",
       "      <th></th>\n",
       "    </tr>\n",
       "  </thead>\n",
       "  <tbody>\n",
       "    <tr>\n",
       "      <th>LGBMRegressor</th>\n",
       "      <td>0.644254</td>\n",
       "      <td>0.176471</td>\n",
       "      <td>0.137255</td>\n",
       "      <td>0.123529</td>\n",
       "      <td>0.082353</td>\n",
       "      <td>0.056497</td>\n",
       "      <td>142.941176</td>\n",
       "    </tr>\n",
       "    <tr>\n",
       "      <th>RandomForestRegressor</th>\n",
       "      <td>0.670087</td>\n",
       "      <td>0.529412</td>\n",
       "      <td>0.372549</td>\n",
       "      <td>0.252941</td>\n",
       "      <td>0.214706</td>\n",
       "      <td>0.099098</td>\n",
       "      <td>142.941176</td>\n",
       "    </tr>\n",
       "    <tr>\n",
       "      <th>XGBRegressor</th>\n",
       "      <td>0.602994</td>\n",
       "      <td>0.000000</td>\n",
       "      <td>0.000000</td>\n",
       "      <td>0.011765</td>\n",
       "      <td>0.023529</td>\n",
       "      <td>0.028443</td>\n",
       "      <td>142.941176</td>\n",
       "    </tr>\n",
       "  </tbody>\n",
       "</table>\n",
       "</div>"
      ],
      "text/plain": [
       "                            auc       p@1       p@3      p@10      p@20  \\\n",
       "Estimator                                                                 \n",
       "LGBMRegressor          0.644254  0.176471  0.137255  0.123529  0.082353   \n",
       "RandomForestRegressor  0.670087  0.529412  0.372549  0.252941  0.214706   \n",
       "XGBRegressor           0.602994  0.000000  0.000000  0.011765  0.023529   \n",
       "\n",
       "                         p@anom        anom  \n",
       "Estimator                                    \n",
       "LGBMRegressor          0.056497  142.941176  \n",
       "RandomForestRegressor  0.099098  142.941176  \n",
       "XGBRegressor           0.028443  142.941176  "
      ]
     },
     "execution_count": 17,
     "metadata": {},
     "output_type": "execute_result"
    }
   ],
   "source": [
    "pd.DataFrame(res).groupby([\"Estimator\"]).mean()"
   ]
  },
  {
   "cell_type": "code",
   "execution_count": 18,
   "metadata": {},
   "outputs": [],
   "source": [
    "pd.DataFrame(res).to_csv(out_path/\"link-clf-results.csv\")"
   ]
  },
  {
   "cell_type": "code",
   "execution_count": null,
   "metadata": {},
   "outputs": [],
   "source": []
  }
 ],
 "metadata": {
  "kernelspec": {
   "display_name": "wgand",
   "language": "python",
   "name": "python3"
  },
  "language_info": {
   "codemirror_mode": {
    "name": "ipython",
    "version": 3
   },
   "file_extension": ".py",
   "mimetype": "text/x-python",
   "name": "python",
   "nbconvert_exporter": "python",
   "pygments_lexer": "ipython3",
   "version": "3.11.9"
  }
 },
 "nbformat": 4,
 "nbformat_minor": 4
}
